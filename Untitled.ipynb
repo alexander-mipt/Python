{
 "cells": [
  {
   "cell_type": "markdown",
   "id": "7539f9f2",
   "metadata": {},
   "source": [
    "# Исследование скорости обработки запросов п PostgreSQL"
   ]
  },
  {
   "cell_type": "code",
   "execution_count": 2,
   "id": "c082f7ed",
   "metadata": {},
   "outputs": [],
   "source": [
    "import pandas as pd\n",
    "import numpy as np\n"
   ]
  },
  {
   "cell_type": "code",
   "execution_count": 12,
   "id": "1c93ef75",
   "metadata": {},
   "outputs": [],
   "source": [
    "with open(\"table1.csv\", \"w\") as t1:\n",
    "    with open(\"table2.csv\", \"w\") as t2:\n",
    "        t1.write(\"id, value\\n\")\n",
    "        t2.write(\"id, value\\n\")\n",
    "        for i in range(100):\n",
    "            t1.write(f'{i},{np.random.randint(100,200)}\\n')\n",
    "            t2.write(f'{i},{np.random.randint(-200,-100)}\\n')"
   ]
  },
  {
   "cell_type": "code",
   "execution_count": 33,
   "id": "bbba0bdd",
   "metadata": {},
   "outputs": [
    {
     "name": "stdout",
     "output_type": "stream",
     "text": [
      "   id   value\n",
      "0   0     153\n",
      "   id   value\n",
      "1   1     175\n",
      "   id   value\n",
      "2   2     190\n",
      "   id   value\n",
      "3   3     124\n",
      "   id   value\n",
      "4   4     143\n",
      "   id   value\n",
      "5   5     182\n",
      "   id   value\n",
      "6   6     182\n",
      "   id   value\n",
      "7   7     135\n",
      "   id   value\n",
      "8   8     154\n",
      "   id   value\n",
      "9   9     139\n"
     ]
    }
   ],
   "source": [
    "frame = pd.read_csv(\"table1.csv\")\n",
    "for k in range(10):\n",
    "    print(frame.iloc[[k]])\n"
   ]
  },
  {
   "cell_type": "code",
   "execution_count": null,
   "id": "8d3779e2",
   "metadata": {},
   "outputs": [],
   "source": []
  },
  {
   "cell_type": "code",
   "execution_count": null,
   "id": "e60fc13f",
   "metadata": {},
   "outputs": [],
   "source": []
  }
 ],
 "metadata": {
  "kernelspec": {
   "display_name": "Python 3 (ipykernel)",
   "language": "python",
   "name": "python3"
  },
  "language_info": {
   "codemirror_mode": {
    "name": "ipython",
    "version": 3
   },
   "file_extension": ".py",
   "mimetype": "text/x-python",
   "name": "python",
   "nbconvert_exporter": "python",
   "pygments_lexer": "ipython3",
   "version": "3.10.9"
  }
 },
 "nbformat": 4,
 "nbformat_minor": 5
}
